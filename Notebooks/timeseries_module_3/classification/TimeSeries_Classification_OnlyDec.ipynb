{
 "cells": [
  {
   "cell_type": "code",
   "execution_count": 1,
   "metadata": {},
   "outputs": [],
   "source": [
    "import numpy as np\n",
    "import pandas as pd\n",
    "import matplotlib.pyplot as plt\n",
    "from IPython.display import Audio \n",
    "from collections import defaultdict\n",
    "import librosa\n",
    "from pyts.classification import KNeighborsClassifier\n",
    "from tslearn.neighbors import KNeighborsTimeSeriesClassifier\n",
    "from sklearn.model_selection import train_test_split, cross_val_score \n",
    "\n",
    "from sklearn.metrics import accuracy_score, f1_score, classification_report\n",
    "from sklearn.metrics import roc_curve, auc, roc_auc_score"
   ]
  },
  {
   "cell_type": "code",
   "execution_count": 2,
   "metadata": {},
   "outputs": [
    {
     "data": {
      "text/plain": [
       "(2452, 3001)"
      ]
     },
     "execution_count": 2,
     "metadata": {},
     "output_type": "execute_result"
    }
   ],
   "source": [
    "df=pd.read_csv(\"data_dec_scld.csv\")\n",
    "df_y=pd.read_csv(\"data_dec_angryvocal.csv\")\n",
    "df=pd.concat([df_y.iloc[:,2:3],df.iloc[:,1:] ],axis=1)\n",
    "df.shape\n"
   ]
  },
  {
   "cell_type": "code",
   "execution_count": null,
   "metadata": {},
   "outputs": [],
   "source": []
  },
  {
   "cell_type": "code",
   "execution_count": 3,
   "metadata": {},
   "outputs": [
    {
     "data": {
      "text/plain": [
       "'df=df.sample(n=1600, random_state=42)'"
      ]
     },
     "execution_count": 3,
     "metadata": {},
     "output_type": "execute_result"
    }
   ],
   "source": [
    "\"\"\"df=df.sample(n=1600, random_state=42)\"\"\""
   ]
  },
  {
   "cell_type": "code",
   "execution_count": null,
   "metadata": {},
   "outputs": [],
   "source": []
  },
  {
   "cell_type": "code",
   "execution_count": null,
   "metadata": {},
   "outputs": [],
   "source": []
  },
  {
   "cell_type": "code",
   "execution_count": 4,
   "metadata": {},
   "outputs": [
    {
     "data": {
      "text/html": [
       "<div>\n",
       "<style scoped>\n",
       "    .dataframe tbody tr th:only-of-type {\n",
       "        vertical-align: middle;\n",
       "    }\n",
       "\n",
       "    .dataframe tbody tr th {\n",
       "        vertical-align: top;\n",
       "    }\n",
       "\n",
       "    .dataframe thead th {\n",
       "        text-align: right;\n",
       "    }\n",
       "</style>\n",
       "<table border=\"1\" class=\"dataframe\">\n",
       "  <thead>\n",
       "    <tr style=\"text-align: right;\">\n",
       "      <th></th>\n",
       "      <th>2</th>\n",
       "      <th>0</th>\n",
       "      <th>1</th>\n",
       "      <th>2</th>\n",
       "      <th>3</th>\n",
       "      <th>4</th>\n",
       "      <th>5</th>\n",
       "      <th>6</th>\n",
       "      <th>7</th>\n",
       "      <th>8</th>\n",
       "      <th>...</th>\n",
       "      <th>2990</th>\n",
       "      <th>2991</th>\n",
       "      <th>2992</th>\n",
       "      <th>2993</th>\n",
       "      <th>2994</th>\n",
       "      <th>2995</th>\n",
       "      <th>2996</th>\n",
       "      <th>2997</th>\n",
       "      <th>2998</th>\n",
       "      <th>2999</th>\n",
       "    </tr>\n",
       "  </thead>\n",
       "  <tbody>\n",
       "    <tr>\n",
       "      <th>0</th>\n",
       "      <td>speech</td>\n",
       "      <td>-0.024939</td>\n",
       "      <td>0.011531</td>\n",
       "      <td>0.003824</td>\n",
       "      <td>-0.001133</td>\n",
       "      <td>0.005707</td>\n",
       "      <td>-0.001231</td>\n",
       "      <td>0.004508</td>\n",
       "      <td>0.002861</td>\n",
       "      <td>-0.006809</td>\n",
       "      <td>...</td>\n",
       "      <td>-0.068274</td>\n",
       "      <td>-0.079312</td>\n",
       "      <td>-0.065353</td>\n",
       "      <td>-0.061078</td>\n",
       "      <td>-0.079842</td>\n",
       "      <td>-0.074183</td>\n",
       "      <td>-0.063330</td>\n",
       "      <td>-0.075893</td>\n",
       "      <td>-0.069719</td>\n",
       "      <td>-0.060970</td>\n",
       "    </tr>\n",
       "    <tr>\n",
       "      <th>1</th>\n",
       "      <td>speech</td>\n",
       "      <td>0.064653</td>\n",
       "      <td>0.190734</td>\n",
       "      <td>0.011558</td>\n",
       "      <td>-0.162009</td>\n",
       "      <td>-0.037188</td>\n",
       "      <td>0.224411</td>\n",
       "      <td>0.352410</td>\n",
       "      <td>0.234780</td>\n",
       "      <td>0.036427</td>\n",
       "      <td>...</td>\n",
       "      <td>-0.384608</td>\n",
       "      <td>-0.157868</td>\n",
       "      <td>0.050027</td>\n",
       "      <td>0.112627</td>\n",
       "      <td>0.181900</td>\n",
       "      <td>0.165061</td>\n",
       "      <td>0.070171</td>\n",
       "      <td>0.119354</td>\n",
       "      <td>0.241511</td>\n",
       "      <td>0.217111</td>\n",
       "    </tr>\n",
       "    <tr>\n",
       "      <th>2</th>\n",
       "      <td>speech</td>\n",
       "      <td>0.020263</td>\n",
       "      <td>0.014409</td>\n",
       "      <td>0.031487</td>\n",
       "      <td>-0.042241</td>\n",
       "      <td>0.006367</td>\n",
       "      <td>0.035380</td>\n",
       "      <td>-0.031561</td>\n",
       "      <td>0.011531</td>\n",
       "      <td>-0.002462</td>\n",
       "      <td>...</td>\n",
       "      <td>-0.030558</td>\n",
       "      <td>0.052983</td>\n",
       "      <td>0.054366</td>\n",
       "      <td>0.044576</td>\n",
       "      <td>-0.022224</td>\n",
       "      <td>-0.057508</td>\n",
       "      <td>-0.037802</td>\n",
       "      <td>-0.044830</td>\n",
       "      <td>0.002466</td>\n",
       "      <td>0.037955</td>\n",
       "    </tr>\n",
       "    <tr>\n",
       "      <th>3</th>\n",
       "      <td>song</td>\n",
       "      <td>-0.019103</td>\n",
       "      <td>0.005012</td>\n",
       "      <td>-0.008641</td>\n",
       "      <td>-0.021548</td>\n",
       "      <td>-0.019538</td>\n",
       "      <td>-0.017426</td>\n",
       "      <td>-0.016571</td>\n",
       "      <td>-0.017745</td>\n",
       "      <td>0.007278</td>\n",
       "      <td>...</td>\n",
       "      <td>-0.036528</td>\n",
       "      <td>-0.026591</td>\n",
       "      <td>0.013671</td>\n",
       "      <td>0.009325</td>\n",
       "      <td>-0.008404</td>\n",
       "      <td>-0.006055</td>\n",
       "      <td>-0.024189</td>\n",
       "      <td>-0.025364</td>\n",
       "      <td>-0.020363</td>\n",
       "      <td>-0.028207</td>\n",
       "    </tr>\n",
       "    <tr>\n",
       "      <th>4</th>\n",
       "      <td>speech</td>\n",
       "      <td>0.012969</td>\n",
       "      <td>-0.007232</td>\n",
       "      <td>0.003366</td>\n",
       "      <td>-0.008005</td>\n",
       "      <td>0.003822</td>\n",
       "      <td>0.003396</td>\n",
       "      <td>0.001112</td>\n",
       "      <td>-0.000768</td>\n",
       "      <td>-0.002818</td>\n",
       "      <td>...</td>\n",
       "      <td>0.015396</td>\n",
       "      <td>0.015107</td>\n",
       "      <td>0.012921</td>\n",
       "      <td>0.012818</td>\n",
       "      <td>0.011305</td>\n",
       "      <td>0.008308</td>\n",
       "      <td>0.009650</td>\n",
       "      <td>0.012776</td>\n",
       "      <td>0.014175</td>\n",
       "      <td>0.013939</td>\n",
       "    </tr>\n",
       "    <tr>\n",
       "      <th>...</th>\n",
       "      <td>...</td>\n",
       "      <td>...</td>\n",
       "      <td>...</td>\n",
       "      <td>...</td>\n",
       "      <td>...</td>\n",
       "      <td>...</td>\n",
       "      <td>...</td>\n",
       "      <td>...</td>\n",
       "      <td>...</td>\n",
       "      <td>...</td>\n",
       "      <td>...</td>\n",
       "      <td>...</td>\n",
       "      <td>...</td>\n",
       "      <td>...</td>\n",
       "      <td>...</td>\n",
       "      <td>...</td>\n",
       "      <td>...</td>\n",
       "      <td>...</td>\n",
       "      <td>...</td>\n",
       "      <td>...</td>\n",
       "      <td>...</td>\n",
       "    </tr>\n",
       "    <tr>\n",
       "      <th>2447</th>\n",
       "      <td>song</td>\n",
       "      <td>-0.013229</td>\n",
       "      <td>0.004751</td>\n",
       "      <td>-0.008633</td>\n",
       "      <td>0.000095</td>\n",
       "      <td>-0.011264</td>\n",
       "      <td>-0.005826</td>\n",
       "      <td>0.004365</td>\n",
       "      <td>0.000169</td>\n",
       "      <td>0.001596</td>\n",
       "      <td>...</td>\n",
       "      <td>-0.017778</td>\n",
       "      <td>0.025036</td>\n",
       "      <td>0.007569</td>\n",
       "      <td>-0.003107</td>\n",
       "      <td>0.033189</td>\n",
       "      <td>-0.006684</td>\n",
       "      <td>0.027622</td>\n",
       "      <td>0.025792</td>\n",
       "      <td>0.006912</td>\n",
       "      <td>0.014995</td>\n",
       "    </tr>\n",
       "    <tr>\n",
       "      <th>2448</th>\n",
       "      <td>song</td>\n",
       "      <td>0.020862</td>\n",
       "      <td>-0.005326</td>\n",
       "      <td>0.001397</td>\n",
       "      <td>-0.007184</td>\n",
       "      <td>-0.005863</td>\n",
       "      <td>0.009098</td>\n",
       "      <td>0.004302</td>\n",
       "      <td>-0.000174</td>\n",
       "      <td>-0.004781</td>\n",
       "      <td>...</td>\n",
       "      <td>0.001969</td>\n",
       "      <td>0.002012</td>\n",
       "      <td>0.004462</td>\n",
       "      <td>0.000616</td>\n",
       "      <td>-0.002328</td>\n",
       "      <td>0.006944</td>\n",
       "      <td>0.001909</td>\n",
       "      <td>-0.009322</td>\n",
       "      <td>0.005042</td>\n",
       "      <td>-0.003479</td>\n",
       "    </tr>\n",
       "    <tr>\n",
       "      <th>2449</th>\n",
       "      <td>song</td>\n",
       "      <td>-0.011058</td>\n",
       "      <td>0.005325</td>\n",
       "      <td>0.005335</td>\n",
       "      <td>-0.004699</td>\n",
       "      <td>-0.003718</td>\n",
       "      <td>-0.001578</td>\n",
       "      <td>0.002487</td>\n",
       "      <td>0.004716</td>\n",
       "      <td>-0.001243</td>\n",
       "      <td>...</td>\n",
       "      <td>0.005099</td>\n",
       "      <td>0.003683</td>\n",
       "      <td>0.006438</td>\n",
       "      <td>-0.000840</td>\n",
       "      <td>-0.010548</td>\n",
       "      <td>-0.010964</td>\n",
       "      <td>-0.005570</td>\n",
       "      <td>0.011386</td>\n",
       "      <td>0.017458</td>\n",
       "      <td>0.006248</td>\n",
       "    </tr>\n",
       "    <tr>\n",
       "      <th>2450</th>\n",
       "      <td>song</td>\n",
       "      <td>0.008059</td>\n",
       "      <td>0.001253</td>\n",
       "      <td>0.000403</td>\n",
       "      <td>-0.000832</td>\n",
       "      <td>0.000489</td>\n",
       "      <td>-0.000528</td>\n",
       "      <td>-0.003968</td>\n",
       "      <td>0.000497</td>\n",
       "      <td>0.002776</td>\n",
       "      <td>...</td>\n",
       "      <td>-0.009813</td>\n",
       "      <td>-0.013588</td>\n",
       "      <td>-0.009818</td>\n",
       "      <td>-0.009576</td>\n",
       "      <td>-0.012493</td>\n",
       "      <td>-0.016903</td>\n",
       "      <td>-0.008848</td>\n",
       "      <td>-0.003355</td>\n",
       "      <td>-0.004436</td>\n",
       "      <td>-0.001393</td>\n",
       "    </tr>\n",
       "    <tr>\n",
       "      <th>2451</th>\n",
       "      <td>song</td>\n",
       "      <td>0.009520</td>\n",
       "      <td>-0.001895</td>\n",
       "      <td>0.003578</td>\n",
       "      <td>-0.000211</td>\n",
       "      <td>0.000933</td>\n",
       "      <td>0.001403</td>\n",
       "      <td>-0.000975</td>\n",
       "      <td>-0.003030</td>\n",
       "      <td>-0.000130</td>\n",
       "      <td>...</td>\n",
       "      <td>0.016139</td>\n",
       "      <td>0.018858</td>\n",
       "      <td>0.020671</td>\n",
       "      <td>0.010827</td>\n",
       "      <td>0.009184</td>\n",
       "      <td>0.003540</td>\n",
       "      <td>-0.001323</td>\n",
       "      <td>0.000277</td>\n",
       "      <td>-0.011681</td>\n",
       "      <td>-0.022551</td>\n",
       "    </tr>\n",
       "  </tbody>\n",
       "</table>\n",
       "<p>2452 rows × 3001 columns</p>\n",
       "</div>"
      ],
      "text/plain": [
       "           2         0         1         2         3         4         5  \\\n",
       "0     speech -0.024939  0.011531  0.003824 -0.001133  0.005707 -0.001231   \n",
       "1     speech  0.064653  0.190734  0.011558 -0.162009 -0.037188  0.224411   \n",
       "2     speech  0.020263  0.014409  0.031487 -0.042241  0.006367  0.035380   \n",
       "3       song -0.019103  0.005012 -0.008641 -0.021548 -0.019538 -0.017426   \n",
       "4     speech  0.012969 -0.007232  0.003366 -0.008005  0.003822  0.003396   \n",
       "...      ...       ...       ...       ...       ...       ...       ...   \n",
       "2447    song -0.013229  0.004751 -0.008633  0.000095 -0.011264 -0.005826   \n",
       "2448    song  0.020862 -0.005326  0.001397 -0.007184 -0.005863  0.009098   \n",
       "2449    song -0.011058  0.005325  0.005335 -0.004699 -0.003718 -0.001578   \n",
       "2450    song  0.008059  0.001253  0.000403 -0.000832  0.000489 -0.000528   \n",
       "2451    song  0.009520 -0.001895  0.003578 -0.000211  0.000933  0.001403   \n",
       "\n",
       "             6         7         8  ...      2990      2991      2992  \\\n",
       "0     0.004508  0.002861 -0.006809  ... -0.068274 -0.079312 -0.065353   \n",
       "1     0.352410  0.234780  0.036427  ... -0.384608 -0.157868  0.050027   \n",
       "2    -0.031561  0.011531 -0.002462  ... -0.030558  0.052983  0.054366   \n",
       "3    -0.016571 -0.017745  0.007278  ... -0.036528 -0.026591  0.013671   \n",
       "4     0.001112 -0.000768 -0.002818  ...  0.015396  0.015107  0.012921   \n",
       "...        ...       ...       ...  ...       ...       ...       ...   \n",
       "2447  0.004365  0.000169  0.001596  ... -0.017778  0.025036  0.007569   \n",
       "2448  0.004302 -0.000174 -0.004781  ...  0.001969  0.002012  0.004462   \n",
       "2449  0.002487  0.004716 -0.001243  ...  0.005099  0.003683  0.006438   \n",
       "2450 -0.003968  0.000497  0.002776  ... -0.009813 -0.013588 -0.009818   \n",
       "2451 -0.000975 -0.003030 -0.000130  ...  0.016139  0.018858  0.020671   \n",
       "\n",
       "          2993      2994      2995      2996      2997      2998      2999  \n",
       "0    -0.061078 -0.079842 -0.074183 -0.063330 -0.075893 -0.069719 -0.060970  \n",
       "1     0.112627  0.181900  0.165061  0.070171  0.119354  0.241511  0.217111  \n",
       "2     0.044576 -0.022224 -0.057508 -0.037802 -0.044830  0.002466  0.037955  \n",
       "3     0.009325 -0.008404 -0.006055 -0.024189 -0.025364 -0.020363 -0.028207  \n",
       "4     0.012818  0.011305  0.008308  0.009650  0.012776  0.014175  0.013939  \n",
       "...        ...       ...       ...       ...       ...       ...       ...  \n",
       "2447 -0.003107  0.033189 -0.006684  0.027622  0.025792  0.006912  0.014995  \n",
       "2448  0.000616 -0.002328  0.006944  0.001909 -0.009322  0.005042 -0.003479  \n",
       "2449 -0.000840 -0.010548 -0.010964 -0.005570  0.011386  0.017458  0.006248  \n",
       "2450 -0.009576 -0.012493 -0.016903 -0.008848 -0.003355 -0.004436 -0.001393  \n",
       "2451  0.010827  0.009184  0.003540 -0.001323  0.000277 -0.011681 -0.022551  \n",
       "\n",
       "[2452 rows x 3001 columns]"
      ]
     },
     "execution_count": 4,
     "metadata": {},
     "output_type": "execute_result"
    }
   ],
   "source": [
    "df"
   ]
  },
  {
   "cell_type": "code",
   "execution_count": 5,
   "metadata": {},
   "outputs": [],
   "source": [
    "index=df.index"
   ]
  },
  {
   "cell_type": "code",
   "execution_count": 6,
   "metadata": {},
   "outputs": [
    {
     "data": {
      "text/plain": [
       "RangeIndex(start=0, stop=2452, step=1)"
      ]
     },
     "execution_count": 6,
     "metadata": {},
     "output_type": "execute_result"
    }
   ],
   "source": [
    "index"
   ]
  },
  {
   "cell_type": "code",
   "execution_count": 7,
   "metadata": {},
   "outputs": [],
   "source": [
    "X=df.iloc[:,1:]\n",
    "y=df.iloc[:,0:1]"
   ]
  },
  {
   "cell_type": "code",
   "execution_count": 8,
   "metadata": {},
   "outputs": [
    {
     "data": {
      "text/html": [
       "<div>\n",
       "<style scoped>\n",
       "    .dataframe tbody tr th:only-of-type {\n",
       "        vertical-align: middle;\n",
       "    }\n",
       "\n",
       "    .dataframe tbody tr th {\n",
       "        vertical-align: top;\n",
       "    }\n",
       "\n",
       "    .dataframe thead th {\n",
       "        text-align: right;\n",
       "    }\n",
       "</style>\n",
       "<table border=\"1\" class=\"dataframe\">\n",
       "  <thead>\n",
       "    <tr style=\"text-align: right;\">\n",
       "      <th></th>\n",
       "      <th>0</th>\n",
       "      <th>1</th>\n",
       "      <th>2</th>\n",
       "      <th>3</th>\n",
       "      <th>4</th>\n",
       "      <th>5</th>\n",
       "      <th>6</th>\n",
       "      <th>7</th>\n",
       "      <th>8</th>\n",
       "      <th>9</th>\n",
       "      <th>...</th>\n",
       "      <th>2990</th>\n",
       "      <th>2991</th>\n",
       "      <th>2992</th>\n",
       "      <th>2993</th>\n",
       "      <th>2994</th>\n",
       "      <th>2995</th>\n",
       "      <th>2996</th>\n",
       "      <th>2997</th>\n",
       "      <th>2998</th>\n",
       "      <th>2999</th>\n",
       "    </tr>\n",
       "  </thead>\n",
       "  <tbody>\n",
       "    <tr>\n",
       "      <th>0</th>\n",
       "      <td>-0.024939</td>\n",
       "      <td>0.011531</td>\n",
       "      <td>0.003824</td>\n",
       "      <td>-0.001133</td>\n",
       "      <td>0.005707</td>\n",
       "      <td>-0.001231</td>\n",
       "      <td>0.004508</td>\n",
       "      <td>0.002861</td>\n",
       "      <td>-0.006809</td>\n",
       "      <td>-0.002455</td>\n",
       "      <td>...</td>\n",
       "      <td>-0.068274</td>\n",
       "      <td>-0.079312</td>\n",
       "      <td>-0.065353</td>\n",
       "      <td>-0.061078</td>\n",
       "      <td>-0.079842</td>\n",
       "      <td>-0.074183</td>\n",
       "      <td>-0.063330</td>\n",
       "      <td>-0.075893</td>\n",
       "      <td>-0.069719</td>\n",
       "      <td>-0.060970</td>\n",
       "    </tr>\n",
       "    <tr>\n",
       "      <th>1</th>\n",
       "      <td>0.064653</td>\n",
       "      <td>0.190734</td>\n",
       "      <td>0.011558</td>\n",
       "      <td>-0.162009</td>\n",
       "      <td>-0.037188</td>\n",
       "      <td>0.224411</td>\n",
       "      <td>0.352410</td>\n",
       "      <td>0.234780</td>\n",
       "      <td>0.036427</td>\n",
       "      <td>-0.071036</td>\n",
       "      <td>...</td>\n",
       "      <td>-0.384608</td>\n",
       "      <td>-0.157868</td>\n",
       "      <td>0.050027</td>\n",
       "      <td>0.112627</td>\n",
       "      <td>0.181900</td>\n",
       "      <td>0.165061</td>\n",
       "      <td>0.070171</td>\n",
       "      <td>0.119354</td>\n",
       "      <td>0.241511</td>\n",
       "      <td>0.217111</td>\n",
       "    </tr>\n",
       "    <tr>\n",
       "      <th>2</th>\n",
       "      <td>0.020263</td>\n",
       "      <td>0.014409</td>\n",
       "      <td>0.031487</td>\n",
       "      <td>-0.042241</td>\n",
       "      <td>0.006367</td>\n",
       "      <td>0.035380</td>\n",
       "      <td>-0.031561</td>\n",
       "      <td>0.011531</td>\n",
       "      <td>-0.002462</td>\n",
       "      <td>-0.004915</td>\n",
       "      <td>...</td>\n",
       "      <td>-0.030558</td>\n",
       "      <td>0.052983</td>\n",
       "      <td>0.054366</td>\n",
       "      <td>0.044576</td>\n",
       "      <td>-0.022224</td>\n",
       "      <td>-0.057508</td>\n",
       "      <td>-0.037802</td>\n",
       "      <td>-0.044830</td>\n",
       "      <td>0.002466</td>\n",
       "      <td>0.037955</td>\n",
       "    </tr>\n",
       "    <tr>\n",
       "      <th>3</th>\n",
       "      <td>-0.019103</td>\n",
       "      <td>0.005012</td>\n",
       "      <td>-0.008641</td>\n",
       "      <td>-0.021548</td>\n",
       "      <td>-0.019538</td>\n",
       "      <td>-0.017426</td>\n",
       "      <td>-0.016571</td>\n",
       "      <td>-0.017745</td>\n",
       "      <td>0.007278</td>\n",
       "      <td>0.013846</td>\n",
       "      <td>...</td>\n",
       "      <td>-0.036528</td>\n",
       "      <td>-0.026591</td>\n",
       "      <td>0.013671</td>\n",
       "      <td>0.009325</td>\n",
       "      <td>-0.008404</td>\n",
       "      <td>-0.006055</td>\n",
       "      <td>-0.024189</td>\n",
       "      <td>-0.025364</td>\n",
       "      <td>-0.020363</td>\n",
       "      <td>-0.028207</td>\n",
       "    </tr>\n",
       "    <tr>\n",
       "      <th>4</th>\n",
       "      <td>0.012969</td>\n",
       "      <td>-0.007232</td>\n",
       "      <td>0.003366</td>\n",
       "      <td>-0.008005</td>\n",
       "      <td>0.003822</td>\n",
       "      <td>0.003396</td>\n",
       "      <td>0.001112</td>\n",
       "      <td>-0.000768</td>\n",
       "      <td>-0.002818</td>\n",
       "      <td>-0.004335</td>\n",
       "      <td>...</td>\n",
       "      <td>0.015396</td>\n",
       "      <td>0.015107</td>\n",
       "      <td>0.012921</td>\n",
       "      <td>0.012818</td>\n",
       "      <td>0.011305</td>\n",
       "      <td>0.008308</td>\n",
       "      <td>0.009650</td>\n",
       "      <td>0.012776</td>\n",
       "      <td>0.014175</td>\n",
       "      <td>0.013939</td>\n",
       "    </tr>\n",
       "    <tr>\n",
       "      <th>...</th>\n",
       "      <td>...</td>\n",
       "      <td>...</td>\n",
       "      <td>...</td>\n",
       "      <td>...</td>\n",
       "      <td>...</td>\n",
       "      <td>...</td>\n",
       "      <td>...</td>\n",
       "      <td>...</td>\n",
       "      <td>...</td>\n",
       "      <td>...</td>\n",
       "      <td>...</td>\n",
       "      <td>...</td>\n",
       "      <td>...</td>\n",
       "      <td>...</td>\n",
       "      <td>...</td>\n",
       "      <td>...</td>\n",
       "      <td>...</td>\n",
       "      <td>...</td>\n",
       "      <td>...</td>\n",
       "      <td>...</td>\n",
       "      <td>...</td>\n",
       "    </tr>\n",
       "    <tr>\n",
       "      <th>2447</th>\n",
       "      <td>-0.013229</td>\n",
       "      <td>0.004751</td>\n",
       "      <td>-0.008633</td>\n",
       "      <td>0.000095</td>\n",
       "      <td>-0.011264</td>\n",
       "      <td>-0.005826</td>\n",
       "      <td>0.004365</td>\n",
       "      <td>0.000169</td>\n",
       "      <td>0.001596</td>\n",
       "      <td>-0.004729</td>\n",
       "      <td>...</td>\n",
       "      <td>-0.017778</td>\n",
       "      <td>0.025036</td>\n",
       "      <td>0.007569</td>\n",
       "      <td>-0.003107</td>\n",
       "      <td>0.033189</td>\n",
       "      <td>-0.006684</td>\n",
       "      <td>0.027622</td>\n",
       "      <td>0.025792</td>\n",
       "      <td>0.006912</td>\n",
       "      <td>0.014995</td>\n",
       "    </tr>\n",
       "    <tr>\n",
       "      <th>2448</th>\n",
       "      <td>0.020862</td>\n",
       "      <td>-0.005326</td>\n",
       "      <td>0.001397</td>\n",
       "      <td>-0.007184</td>\n",
       "      <td>-0.005863</td>\n",
       "      <td>0.009098</td>\n",
       "      <td>0.004302</td>\n",
       "      <td>-0.000174</td>\n",
       "      <td>-0.004781</td>\n",
       "      <td>0.001159</td>\n",
       "      <td>...</td>\n",
       "      <td>0.001969</td>\n",
       "      <td>0.002012</td>\n",
       "      <td>0.004462</td>\n",
       "      <td>0.000616</td>\n",
       "      <td>-0.002328</td>\n",
       "      <td>0.006944</td>\n",
       "      <td>0.001909</td>\n",
       "      <td>-0.009322</td>\n",
       "      <td>0.005042</td>\n",
       "      <td>-0.003479</td>\n",
       "    </tr>\n",
       "    <tr>\n",
       "      <th>2449</th>\n",
       "      <td>-0.011058</td>\n",
       "      <td>0.005325</td>\n",
       "      <td>0.005335</td>\n",
       "      <td>-0.004699</td>\n",
       "      <td>-0.003718</td>\n",
       "      <td>-0.001578</td>\n",
       "      <td>0.002487</td>\n",
       "      <td>0.004716</td>\n",
       "      <td>-0.001243</td>\n",
       "      <td>-0.001279</td>\n",
       "      <td>...</td>\n",
       "      <td>0.005099</td>\n",
       "      <td>0.003683</td>\n",
       "      <td>0.006438</td>\n",
       "      <td>-0.000840</td>\n",
       "      <td>-0.010548</td>\n",
       "      <td>-0.010964</td>\n",
       "      <td>-0.005570</td>\n",
       "      <td>0.011386</td>\n",
       "      <td>0.017458</td>\n",
       "      <td>0.006248</td>\n",
       "    </tr>\n",
       "    <tr>\n",
       "      <th>2450</th>\n",
       "      <td>0.008059</td>\n",
       "      <td>0.001253</td>\n",
       "      <td>0.000403</td>\n",
       "      <td>-0.000832</td>\n",
       "      <td>0.000489</td>\n",
       "      <td>-0.000528</td>\n",
       "      <td>-0.003968</td>\n",
       "      <td>0.000497</td>\n",
       "      <td>0.002776</td>\n",
       "      <td>0.000819</td>\n",
       "      <td>...</td>\n",
       "      <td>-0.009813</td>\n",
       "      <td>-0.013588</td>\n",
       "      <td>-0.009818</td>\n",
       "      <td>-0.009576</td>\n",
       "      <td>-0.012493</td>\n",
       "      <td>-0.016903</td>\n",
       "      <td>-0.008848</td>\n",
       "      <td>-0.003355</td>\n",
       "      <td>-0.004436</td>\n",
       "      <td>-0.001393</td>\n",
       "    </tr>\n",
       "    <tr>\n",
       "      <th>2451</th>\n",
       "      <td>0.009520</td>\n",
       "      <td>-0.001895</td>\n",
       "      <td>0.003578</td>\n",
       "      <td>-0.000211</td>\n",
       "      <td>0.000933</td>\n",
       "      <td>0.001403</td>\n",
       "      <td>-0.000975</td>\n",
       "      <td>-0.003030</td>\n",
       "      <td>-0.000130</td>\n",
       "      <td>0.002140</td>\n",
       "      <td>...</td>\n",
       "      <td>0.016139</td>\n",
       "      <td>0.018858</td>\n",
       "      <td>0.020671</td>\n",
       "      <td>0.010827</td>\n",
       "      <td>0.009184</td>\n",
       "      <td>0.003540</td>\n",
       "      <td>-0.001323</td>\n",
       "      <td>0.000277</td>\n",
       "      <td>-0.011681</td>\n",
       "      <td>-0.022551</td>\n",
       "    </tr>\n",
       "  </tbody>\n",
       "</table>\n",
       "<p>2452 rows × 3000 columns</p>\n",
       "</div>"
      ],
      "text/plain": [
       "             0         1         2         3         4         5         6  \\\n",
       "0    -0.024939  0.011531  0.003824 -0.001133  0.005707 -0.001231  0.004508   \n",
       "1     0.064653  0.190734  0.011558 -0.162009 -0.037188  0.224411  0.352410   \n",
       "2     0.020263  0.014409  0.031487 -0.042241  0.006367  0.035380 -0.031561   \n",
       "3    -0.019103  0.005012 -0.008641 -0.021548 -0.019538 -0.017426 -0.016571   \n",
       "4     0.012969 -0.007232  0.003366 -0.008005  0.003822  0.003396  0.001112   \n",
       "...        ...       ...       ...       ...       ...       ...       ...   \n",
       "2447 -0.013229  0.004751 -0.008633  0.000095 -0.011264 -0.005826  0.004365   \n",
       "2448  0.020862 -0.005326  0.001397 -0.007184 -0.005863  0.009098  0.004302   \n",
       "2449 -0.011058  0.005325  0.005335 -0.004699 -0.003718 -0.001578  0.002487   \n",
       "2450  0.008059  0.001253  0.000403 -0.000832  0.000489 -0.000528 -0.003968   \n",
       "2451  0.009520 -0.001895  0.003578 -0.000211  0.000933  0.001403 -0.000975   \n",
       "\n",
       "             7         8         9  ...      2990      2991      2992  \\\n",
       "0     0.002861 -0.006809 -0.002455  ... -0.068274 -0.079312 -0.065353   \n",
       "1     0.234780  0.036427 -0.071036  ... -0.384608 -0.157868  0.050027   \n",
       "2     0.011531 -0.002462 -0.004915  ... -0.030558  0.052983  0.054366   \n",
       "3    -0.017745  0.007278  0.013846  ... -0.036528 -0.026591  0.013671   \n",
       "4    -0.000768 -0.002818 -0.004335  ...  0.015396  0.015107  0.012921   \n",
       "...        ...       ...       ...  ...       ...       ...       ...   \n",
       "2447  0.000169  0.001596 -0.004729  ... -0.017778  0.025036  0.007569   \n",
       "2448 -0.000174 -0.004781  0.001159  ...  0.001969  0.002012  0.004462   \n",
       "2449  0.004716 -0.001243 -0.001279  ...  0.005099  0.003683  0.006438   \n",
       "2450  0.000497  0.002776  0.000819  ... -0.009813 -0.013588 -0.009818   \n",
       "2451 -0.003030 -0.000130  0.002140  ...  0.016139  0.018858  0.020671   \n",
       "\n",
       "          2993      2994      2995      2996      2997      2998      2999  \n",
       "0    -0.061078 -0.079842 -0.074183 -0.063330 -0.075893 -0.069719 -0.060970  \n",
       "1     0.112627  0.181900  0.165061  0.070171  0.119354  0.241511  0.217111  \n",
       "2     0.044576 -0.022224 -0.057508 -0.037802 -0.044830  0.002466  0.037955  \n",
       "3     0.009325 -0.008404 -0.006055 -0.024189 -0.025364 -0.020363 -0.028207  \n",
       "4     0.012818  0.011305  0.008308  0.009650  0.012776  0.014175  0.013939  \n",
       "...        ...       ...       ...       ...       ...       ...       ...  \n",
       "2447 -0.003107  0.033189 -0.006684  0.027622  0.025792  0.006912  0.014995  \n",
       "2448  0.000616 -0.002328  0.006944  0.001909 -0.009322  0.005042 -0.003479  \n",
       "2449 -0.000840 -0.010548 -0.010964 -0.005570  0.011386  0.017458  0.006248  \n",
       "2450 -0.009576 -0.012493 -0.016903 -0.008848 -0.003355 -0.004436 -0.001393  \n",
       "2451  0.010827  0.009184  0.003540 -0.001323  0.000277 -0.011681 -0.022551  \n",
       "\n",
       "[2452 rows x 3000 columns]"
      ]
     },
     "execution_count": 8,
     "metadata": {},
     "output_type": "execute_result"
    }
   ],
   "source": [
    "X"
   ]
  },
  {
   "cell_type": "code",
   "execution_count": 9,
   "metadata": {},
   "outputs": [
    {
     "data": {
      "text/html": [
       "<div>\n",
       "<style scoped>\n",
       "    .dataframe tbody tr th:only-of-type {\n",
       "        vertical-align: middle;\n",
       "    }\n",
       "\n",
       "    .dataframe tbody tr th {\n",
       "        vertical-align: top;\n",
       "    }\n",
       "\n",
       "    .dataframe thead th {\n",
       "        text-align: right;\n",
       "    }\n",
       "</style>\n",
       "<table border=\"1\" class=\"dataframe\">\n",
       "  <thead>\n",
       "    <tr style=\"text-align: right;\">\n",
       "      <th></th>\n",
       "      <th>2</th>\n",
       "    </tr>\n",
       "  </thead>\n",
       "  <tbody>\n",
       "    <tr>\n",
       "      <th>0</th>\n",
       "      <td>speech</td>\n",
       "    </tr>\n",
       "    <tr>\n",
       "      <th>1</th>\n",
       "      <td>speech</td>\n",
       "    </tr>\n",
       "    <tr>\n",
       "      <th>2</th>\n",
       "      <td>speech</td>\n",
       "    </tr>\n",
       "    <tr>\n",
       "      <th>3</th>\n",
       "      <td>song</td>\n",
       "    </tr>\n",
       "    <tr>\n",
       "      <th>4</th>\n",
       "      <td>speech</td>\n",
       "    </tr>\n",
       "    <tr>\n",
       "      <th>...</th>\n",
       "      <td>...</td>\n",
       "    </tr>\n",
       "    <tr>\n",
       "      <th>2447</th>\n",
       "      <td>song</td>\n",
       "    </tr>\n",
       "    <tr>\n",
       "      <th>2448</th>\n",
       "      <td>song</td>\n",
       "    </tr>\n",
       "    <tr>\n",
       "      <th>2449</th>\n",
       "      <td>song</td>\n",
       "    </tr>\n",
       "    <tr>\n",
       "      <th>2450</th>\n",
       "      <td>song</td>\n",
       "    </tr>\n",
       "    <tr>\n",
       "      <th>2451</th>\n",
       "      <td>song</td>\n",
       "    </tr>\n",
       "  </tbody>\n",
       "</table>\n",
       "<p>2452 rows × 1 columns</p>\n",
       "</div>"
      ],
      "text/plain": [
       "           2\n",
       "0     speech\n",
       "1     speech\n",
       "2     speech\n",
       "3       song\n",
       "4     speech\n",
       "...      ...\n",
       "2447    song\n",
       "2448    song\n",
       "2449    song\n",
       "2450    song\n",
       "2451    song\n",
       "\n",
       "[2452 rows x 1 columns]"
      ]
     },
     "execution_count": 9,
     "metadata": {},
     "output_type": "execute_result"
    }
   ],
   "source": [
    "y"
   ]
  },
  {
   "cell_type": "code",
   "execution_count": 10,
   "metadata": {},
   "outputs": [],
   "source": [
    "from tslearn.preprocessing import TimeSeriesScalerMinMax\n",
    "from tslearn.preprocessing import TimeSeriesScalerMeanVariance"
   ]
  },
  {
   "cell_type": "code",
   "execution_count": 11,
   "metadata": {},
   "outputs": [
    {
     "data": {
      "text/plain": [
       "'scaler = TimeSeriesScalerMeanVariance(mu=0., std=1.)\\nX = scaler.fit_transform(X).reshape(X.shape[0], X.shape[1])'"
      ]
     },
     "execution_count": 11,
     "metadata": {},
     "output_type": "execute_result"
    }
   ],
   "source": [
    "\"\"\"scaler = TimeSeriesScalerMeanVariance(mu=0., std=1.)\n",
    "X = scaler.fit_transform(X).reshape(X.shape[0], X.shape[1])\"\"\""
   ]
  },
  {
   "cell_type": "code",
   "execution_count": null,
   "metadata": {},
   "outputs": [],
   "source": []
  },
  {
   "cell_type": "code",
   "execution_count": null,
   "metadata": {},
   "outputs": [],
   "source": []
  },
  {
   "cell_type": "code",
   "execution_count": null,
   "metadata": {},
   "outputs": [],
   "source": []
  },
  {
   "cell_type": "code",
   "execution_count": 12,
   "metadata": {},
   "outputs": [],
   "source": [
    "X_train=X.iloc[0:1827,:]\n",
    "X_test=X.iloc[1828:,:]\n",
    "y_train=y.iloc[0:1827,:]\n",
    "y_test=y.iloc[1828:,:]"
   ]
  },
  {
   "cell_type": "code",
   "execution_count": null,
   "metadata": {},
   "outputs": [],
   "source": []
  },
  {
   "cell_type": "code",
   "execution_count": 13,
   "metadata": {},
   "outputs": [
    {
     "data": {
      "text/plain": [
       "(1827, 3000)"
      ]
     },
     "execution_count": 13,
     "metadata": {},
     "output_type": "execute_result"
    }
   ],
   "source": [
    "X_train.shape"
   ]
  },
  {
   "cell_type": "code",
   "execution_count": 14,
   "metadata": {},
   "outputs": [
    {
     "data": {
      "text/plain": [
       "624"
      ]
     },
     "execution_count": 14,
     "metadata": {},
     "output_type": "execute_result"
    }
   ],
   "source": [
    "len(X_test)"
   ]
  },
  {
   "cell_type": "code",
   "execution_count": 15,
   "metadata": {},
   "outputs": [
    {
     "data": {
      "text/html": [
       "<div>\n",
       "<style scoped>\n",
       "    .dataframe tbody tr th:only-of-type {\n",
       "        vertical-align: middle;\n",
       "    }\n",
       "\n",
       "    .dataframe tbody tr th {\n",
       "        vertical-align: top;\n",
       "    }\n",
       "\n",
       "    .dataframe thead th {\n",
       "        text-align: right;\n",
       "    }\n",
       "</style>\n",
       "<table border=\"1\" class=\"dataframe\">\n",
       "  <thead>\n",
       "    <tr style=\"text-align: right;\">\n",
       "      <th></th>\n",
       "      <th>2</th>\n",
       "    </tr>\n",
       "  </thead>\n",
       "  <tbody>\n",
       "    <tr>\n",
       "      <th>0</th>\n",
       "      <td>speech</td>\n",
       "    </tr>\n",
       "    <tr>\n",
       "      <th>1</th>\n",
       "      <td>speech</td>\n",
       "    </tr>\n",
       "    <tr>\n",
       "      <th>2</th>\n",
       "      <td>speech</td>\n",
       "    </tr>\n",
       "    <tr>\n",
       "      <th>3</th>\n",
       "      <td>song</td>\n",
       "    </tr>\n",
       "    <tr>\n",
       "      <th>4</th>\n",
       "      <td>speech</td>\n",
       "    </tr>\n",
       "    <tr>\n",
       "      <th>...</th>\n",
       "      <td>...</td>\n",
       "    </tr>\n",
       "    <tr>\n",
       "      <th>1822</th>\n",
       "      <td>speech</td>\n",
       "    </tr>\n",
       "    <tr>\n",
       "      <th>1823</th>\n",
       "      <td>song</td>\n",
       "    </tr>\n",
       "    <tr>\n",
       "      <th>1824</th>\n",
       "      <td>speech</td>\n",
       "    </tr>\n",
       "    <tr>\n",
       "      <th>1825</th>\n",
       "      <td>speech</td>\n",
       "    </tr>\n",
       "    <tr>\n",
       "      <th>1826</th>\n",
       "      <td>speech</td>\n",
       "    </tr>\n",
       "  </tbody>\n",
       "</table>\n",
       "<p>1827 rows × 1 columns</p>\n",
       "</div>"
      ],
      "text/plain": [
       "           2\n",
       "0     speech\n",
       "1     speech\n",
       "2     speech\n",
       "3       song\n",
       "4     speech\n",
       "...      ...\n",
       "1822  speech\n",
       "1823    song\n",
       "1824  speech\n",
       "1825  speech\n",
       "1826  speech\n",
       "\n",
       "[1827 rows x 1 columns]"
      ]
     },
     "execution_count": 15,
     "metadata": {},
     "output_type": "execute_result"
    }
   ],
   "source": [
    "y_train"
   ]
  },
  {
   "cell_type": "code",
   "execution_count": 16,
   "metadata": {},
   "outputs": [
    {
     "data": {
      "text/html": [
       "<div>\n",
       "<style scoped>\n",
       "    .dataframe tbody tr th:only-of-type {\n",
       "        vertical-align: middle;\n",
       "    }\n",
       "\n",
       "    .dataframe tbody tr th {\n",
       "        vertical-align: top;\n",
       "    }\n",
       "\n",
       "    .dataframe thead th {\n",
       "        text-align: right;\n",
       "    }\n",
       "</style>\n",
       "<table border=\"1\" class=\"dataframe\">\n",
       "  <thead>\n",
       "    <tr style=\"text-align: right;\">\n",
       "      <th></th>\n",
       "      <th>2</th>\n",
       "    </tr>\n",
       "  </thead>\n",
       "  <tbody>\n",
       "    <tr>\n",
       "      <th>1828</th>\n",
       "      <td>speech</td>\n",
       "    </tr>\n",
       "    <tr>\n",
       "      <th>1829</th>\n",
       "      <td>speech</td>\n",
       "    </tr>\n",
       "    <tr>\n",
       "      <th>1830</th>\n",
       "      <td>speech</td>\n",
       "    </tr>\n",
       "    <tr>\n",
       "      <th>1831</th>\n",
       "      <td>speech</td>\n",
       "    </tr>\n",
       "    <tr>\n",
       "      <th>1832</th>\n",
       "      <td>speech</td>\n",
       "    </tr>\n",
       "    <tr>\n",
       "      <th>...</th>\n",
       "      <td>...</td>\n",
       "    </tr>\n",
       "    <tr>\n",
       "      <th>2447</th>\n",
       "      <td>song</td>\n",
       "    </tr>\n",
       "    <tr>\n",
       "      <th>2448</th>\n",
       "      <td>song</td>\n",
       "    </tr>\n",
       "    <tr>\n",
       "      <th>2449</th>\n",
       "      <td>song</td>\n",
       "    </tr>\n",
       "    <tr>\n",
       "      <th>2450</th>\n",
       "      <td>song</td>\n",
       "    </tr>\n",
       "    <tr>\n",
       "      <th>2451</th>\n",
       "      <td>song</td>\n",
       "    </tr>\n",
       "  </tbody>\n",
       "</table>\n",
       "<p>624 rows × 1 columns</p>\n",
       "</div>"
      ],
      "text/plain": [
       "           2\n",
       "1828  speech\n",
       "1829  speech\n",
       "1830  speech\n",
       "1831  speech\n",
       "1832  speech\n",
       "...      ...\n",
       "2447    song\n",
       "2448    song\n",
       "2449    song\n",
       "2450    song\n",
       "2451    song\n",
       "\n",
       "[624 rows x 1 columns]"
      ]
     },
     "execution_count": 16,
     "metadata": {},
     "output_type": "execute_result"
    }
   ],
   "source": [
    "y_test"
   ]
  },
  {
   "cell_type": "code",
   "execution_count": 17,
   "metadata": {},
   "outputs": [
    {
     "data": {
      "text/plain": [
       "'X_train, X_val, y_train, y_val = train_test_split(X_train, y_train, test_size=0.3, random_state=100, stratify=y)'"
      ]
     },
     "execution_count": 17,
     "metadata": {},
     "output_type": "execute_result"
    }
   ],
   "source": [
    "\"\"\"X_train, X_val, y_train, y_val = train_test_split(X_train, y_train, test_size=0.3, random_state=100, stratify=y)\"\"\""
   ]
  },
  {
   "cell_type": "code",
   "execution_count": 18,
   "metadata": {},
   "outputs": [],
   "source": [
    "y_train=y_train.T.iloc[0]\n",
    "y_test=y_test.T.iloc[0]"
   ]
  },
  {
   "cell_type": "code",
   "execution_count": 19,
   "metadata": {},
   "outputs": [
    {
     "data": {
      "text/plain": [
       "1827"
      ]
     },
     "execution_count": 19,
     "metadata": {},
     "output_type": "execute_result"
    }
   ],
   "source": [
    "len(y_train)"
   ]
  },
  {
   "cell_type": "code",
   "execution_count": 20,
   "metadata": {},
   "outputs": [],
   "source": [
    "y_train=y_train.copy()\n",
    "for i in range(len(y_train)):##devo fare sto troiao perchè per plottare vuole in input un array con 0 o 1... capiamo poi se conviene fare questa operazione a livello di dataset\n",
    "    if y_train[i]=='speech':\n",
    "        y_train[i]=0\n",
    "    else:\n",
    "        y_train[i]=1\n",
    "y_train=y_train.astype(int)"
   ]
  },
  {
   "cell_type": "code",
   "execution_count": 21,
   "metadata": {},
   "outputs": [],
   "source": [
    "y_test=y_test.copy()\n",
    "for i in range(1828,1828+len(y_test)):##devo fare sto troiao perchè per plottare vuole in input un array con 0 o 1... capiamo poi se conviene fare questa operazione a livello di dataset\n",
    "    if y_test[i]=='speech':\n",
    "        y_test[i]=0\n",
    "    else:\n",
    "        y_test[i]=1\n",
    "y_test=y_test.astype(int)"
   ]
  },
  {
   "cell_type": "code",
   "execution_count": 22,
   "metadata": {},
   "outputs": [
    {
     "data": {
      "text/plain": [
       "1828    0\n",
       "1829    0\n",
       "1830    0\n",
       "1831    0\n",
       "1832    0\n",
       "       ..\n",
       "2447    1\n",
       "2448    1\n",
       "2449    1\n",
       "2450    1\n",
       "2451    1\n",
       "Name: 2, Length: 624, dtype: int32"
      ]
     },
     "execution_count": 22,
     "metadata": {},
     "output_type": "execute_result"
    }
   ],
   "source": [
    "y_test"
   ]
  },
  {
   "cell_type": "code",
   "execution_count": 23,
   "metadata": {},
   "outputs": [
    {
     "data": {
      "text/plain": [
       "0       0\n",
       "1       0\n",
       "2       0\n",
       "3       1\n",
       "4       0\n",
       "       ..\n",
       "1822    0\n",
       "1823    1\n",
       "1824    0\n",
       "1825    0\n",
       "1826    0\n",
       "Name: 2, Length: 1827, dtype: int32"
      ]
     },
     "execution_count": 23,
     "metadata": {},
     "output_type": "execute_result"
    }
   ],
   "source": [
    "y_train"
   ]
  },
  {
   "cell_type": "code",
   "execution_count": 24,
   "metadata": {},
   "outputs": [],
   "source": [
    "from imblearn.under_sampling import RandomUnderSampler\n",
    "from imblearn.under_sampling import CondensedNearestNeighbour\n",
    "from imblearn.under_sampling import TomekLinks\n",
    "from imblearn.under_sampling import EditedNearestNeighbours\n",
    "from collections import Counter\n",
    "from imblearn.over_sampling import RandomOverSampler\n",
    "from imblearn.over_sampling import SMOTE\n",
    "from imblearn.over_sampling import ADASYN\n",
    "from sklearn.cluster import MiniBatchKMeans\n",
    "from imblearn.under_sampling import ClusterCentroids"
   ]
  },
  {
   "cell_type": "code",
   "execution_count": null,
   "metadata": {},
   "outputs": [],
   "source": []
  },
  {
   "cell_type": "code",
   "execution_count": 25,
   "metadata": {},
   "outputs": [
    {
     "data": {
      "text/plain": [
       "\"ada = ADASYN(random_state=42)\\nX_train, y_train = ada.fit_resample(X_train, y_train)\\nprint('Resampled dataset shape %s' % Counter(y_train))\""
      ]
     },
     "execution_count": 25,
     "metadata": {},
     "output_type": "execute_result"
    }
   ],
   "source": [
    "\"\"\"cc = ClusterCentroids(\n",
    "    estimator=MiniBatchKMeans(n_init=1, random_state=0), random_state=42\n",
    ")\n",
    "X_res, y_res = cc.fit_resample(X_train, y_train)\n",
    "print('Resampled dataset shape %s' % Counter(y_res))\n",
    "rus = RandomUnderSampler(random_state=42)\n",
    "X_res, y_res = rus.fit_resample(X_train, y_train)\n",
    "print('Resampled dataset shape %s' % Counter(y_res))\"\"\"\n",
    "\n",
    "\"\"\"sm = SMOTE(random_state=42)\n",
    "X_train, y_train = sm.fit_resample(X_train, y_train)\n",
    "print('Resampled dataset shape %s' % Counter(y_train))\"\"\"\n",
    "\n",
    "\"\"\"ada = ADASYN(random_state=42)\n",
    "X_train, y_train = ada.fit_resample(X_train, y_train)\n",
    "print('Resampled dataset shape %s' % Counter(y_train))\"\"\""
   ]
  },
  {
   "cell_type": "code",
   "execution_count": 26,
   "metadata": {},
   "outputs": [
    {
     "data": {
      "text/plain": [
       "1827"
      ]
     },
     "execution_count": 26,
     "metadata": {},
     "output_type": "execute_result"
    }
   ],
   "source": [
    "len(X_train)"
   ]
  },
  {
   "cell_type": "code",
   "execution_count": 27,
   "metadata": {},
   "outputs": [
    {
     "data": {
      "text/plain": [
       "'len(X_train[0])'"
      ]
     },
     "execution_count": 27,
     "metadata": {},
     "output_type": "execute_result"
    }
   ],
   "source": [
    "\"\"\"len(X_train[0])\"\"\""
   ]
  },
  {
   "cell_type": "code",
   "execution_count": 28,
   "metadata": {},
   "outputs": [
    {
     "data": {
      "text/plain": [
       "(1827,)"
      ]
     },
     "execution_count": 28,
     "metadata": {},
     "output_type": "execute_result"
    }
   ],
   "source": [
    "y_train.shape"
   ]
  },
  {
   "cell_type": "code",
   "execution_count": 29,
   "metadata": {},
   "outputs": [],
   "source": [
    "from sklearn.model_selection import RepeatedStratifiedKFold\n",
    "from sklearn.model_selection import RandomizedSearchCV\n",
    "def rs_best_estimator(clf, param_grid, X, y):\n",
    "    cv = RepeatedStratifiedKFold(n_splits=10, n_repeats=3, random_state=1)\n",
    "    grid_search = RandomizedSearchCV(estimator=clf, param_distributions=param_grid,n_jobs=-1, cv=cv, scoring='accuracy',error_score=0)\n",
    "    grid_result = grid_search.fit(X, y)\n",
    "    # summarize results\n",
    "    print(\"Best: %f using %s\" % (grid_result.best_score_, grid_result.best_params_))\n",
    "    means = grid_result.cv_results_['mean_test_score']\n",
    "    stds = grid_result.cv_results_['std_test_score']\n",
    "    params = grid_result.cv_results_['params']\n",
    "    for mean, stdev, param in zip(means, stds, params):\n",
    "        print(\"%f (%f) with: %r\" % (mean, stdev, param))    \n",
    "    return grid_search"
   ]
  },
  {
   "cell_type": "code",
   "execution_count": null,
   "metadata": {},
   "outputs": [],
   "source": []
  },
  {
   "cell_type": "code",
   "execution_count": 30,
   "metadata": {},
   "outputs": [
    {
     "data": {
      "text/plain": [
       "\"clf = KNeighborsClassifier()\\np=[1,2]\\nn_neighbors = [1,2,3,4,5,6,7,8,9,10]\\nweights  = ['uniform', 'distance',]\\nparam_grid1 = dict(n_neighbors=n_neighbors,weights=weights,p=p)\\nrs_results_logreg = rs_best_estimator(clf, param_grid1, X_train, y_train)\""
      ]
     },
     "execution_count": 30,
     "metadata": {},
     "output_type": "execute_result"
    }
   ],
   "source": [
    "\"\"\"clf = KNeighborsClassifier()\n",
    "p=[1,2]\n",
    "n_neighbors = [1,2,3,4,5,6,7,8,9,10]\n",
    "weights  = ['uniform', 'distance',]\n",
    "param_grid1 = dict(n_neighbors=n_neighbors,weights=weights,p=p)\n",
    "rs_results_logreg = rs_best_estimator(clf, param_grid1, X_train, y_train)\"\"\""
   ]
  },
  {
   "cell_type": "code",
   "execution_count": 31,
   "metadata": {},
   "outputs": [
    {
     "data": {
      "text/plain": [
       "\"clf = KNeighborsClassifier(p=2)\\nn_neighbors = [1,2,3]\\nweights  = ['uniform', 'distance',]\\nparam_grid1 = dict(n_neighbors=n_neighbors,weights=weights)\\nrs_results_logreg = rs_best_estimator(clf, param_grid1, X_train[:,375:750], y_train)\""
      ]
     },
     "execution_count": 31,
     "metadata": {},
     "output_type": "execute_result"
    }
   ],
   "source": [
    "\"\"\"clf = KNeighborsClassifier(p=2)\n",
    "n_neighbors = [1,2,3]\n",
    "weights  = ['uniform', 'distance',]\n",
    "param_grid1 = dict(n_neighbors=n_neighbors,weights=weights)\n",
    "rs_results_logreg = rs_best_estimator(clf, param_grid1, X_train[:,375:750], y_train)\"\"\""
   ]
  },
  {
   "cell_type": "code",
   "execution_count": 32,
   "metadata": {},
   "outputs": [
    {
     "data": {
      "text/plain": [
       "\"clf = KNeighborsClassifier(p=2)\\nn_neighbors = [1,2,3]\\nweights  = ['uniform', 'distance',]\\nparam_grid1 = dict(n_neighbors=n_neighbors,weights=weights)\\nrs_results_logreg = rs_best_estimator(clf, param_grid1, X_train[:,750:1125], y_train)\""
      ]
     },
     "execution_count": 32,
     "metadata": {},
     "output_type": "execute_result"
    }
   ],
   "source": [
    "\"\"\"clf = KNeighborsClassifier(p=2)\n",
    "n_neighbors = [1,2,3]\n",
    "weights  = ['uniform', 'distance',]\n",
    "param_grid1 = dict(n_neighbors=n_neighbors,weights=weights)\n",
    "rs_results_logreg = rs_best_estimator(clf, param_grid1, X_train[:,750:1125], y_train)\"\"\""
   ]
  },
  {
   "cell_type": "code",
   "execution_count": 33,
   "metadata": {},
   "outputs": [
    {
     "data": {
      "text/plain": [
       "\"clf = KNeighborsClassifier(p=2)\\nn_neighbors = [1,2,3]\\nweights  = ['uniform', 'distance',]\\nparam_grid1 = dict(n_neighbors=n_neighbors,weights=weights)\\nrs_results_logreg = rs_best_estimator(clf, param_grid1, X_train, y_train)\""
      ]
     },
     "execution_count": 33,
     "metadata": {},
     "output_type": "execute_result"
    }
   ],
   "source": [
    "\"\"\"clf = KNeighborsClassifier(p=2)\n",
    "n_neighbors = [1,2,3]\n",
    "weights  = ['uniform', 'distance',]\n",
    "param_grid1 = dict(n_neighbors=n_neighbors,weights=weights)\n",
    "rs_results_logreg = rs_best_estimator(clf, param_grid1, X_train, y_train)\"\"\""
   ]
  },
  {
   "cell_type": "code",
   "execution_count": 34,
   "metadata": {},
   "outputs": [
    {
     "data": {
      "text/plain": [
       "\"clf = KNeighborsClassifier(metric='dtw_sakoechiba')\\nn_neighbors = [1,2,3]\\nweights  = ['uniform', 'distance',]\\nparam_grid1 = dict(n_neighbors=n_neighbors,weights=weights)\\nrs_results_logreg = rs_best_estimator(clf, param_grid1, X_train, y_train)\""
      ]
     },
     "execution_count": 34,
     "metadata": {},
     "output_type": "execute_result"
    }
   ],
   "source": [
    "\"\"\"clf = KNeighborsClassifier(metric='dtw_sakoechiba')\n",
    "n_neighbors = [1,2,3]\n",
    "weights  = ['uniform', 'distance',]\n",
    "param_grid1 = dict(n_neighbors=n_neighbors,weights=weights)\n",
    "rs_results_logreg = rs_best_estimator(clf, param_grid1, X_train, y_train)\"\"\""
   ]
  },
  {
   "cell_type": "code",
   "execution_count": 35,
   "metadata": {},
   "outputs": [
    {
     "data": {
      "text/plain": [
       "\"clf = KNeighborsClassifier(metric='dtw_sakoechiba')\\nn_neighbors = [1,2,3]\\nweights  = ['uniform', 'distance',]\\nparam_grid1 = dict(n_neighbors=n_neighbors,weights=weights)\\nrs_results_logreg = rs_best_estimator(clf, param_grid1, X_train[:,375:750], y_train)\""
      ]
     },
     "execution_count": 35,
     "metadata": {},
     "output_type": "execute_result"
    }
   ],
   "source": [
    "\"\"\"clf = KNeighborsClassifier(metric='dtw_sakoechiba')\n",
    "n_neighbors = [1,2,3]\n",
    "weights  = ['uniform', 'distance',]\n",
    "param_grid1 = dict(n_neighbors=n_neighbors,weights=weights)\n",
    "rs_results_logreg = rs_best_estimator(clf, param_grid1, X_train[:,375:750], y_train)\"\"\""
   ]
  },
  {
   "cell_type": "code",
   "execution_count": 36,
   "metadata": {},
   "outputs": [
    {
     "data": {
      "text/plain": [
       "\"clf = KNeighborsClassifier(metric='dtw_sakoechiba')\\nn_neighbors = [1,2,3]\\nweights  = ['uniform', 'distance',]\\nparam_grid1 = dict(n_neighbors=n_neighbors,weights=weights)\\nrs_results_logreg = rs_best_estimator(clf, param_grid1, X_train[:,750:1125], y_train)\""
      ]
     },
     "execution_count": 36,
     "metadata": {},
     "output_type": "execute_result"
    }
   ],
   "source": [
    "\"\"\"clf = KNeighborsClassifier(metric='dtw_sakoechiba')\n",
    "n_neighbors = [1,2,3]\n",
    "weights  = ['uniform', 'distance',]\n",
    "param_grid1 = dict(n_neighbors=n_neighbors,weights=weights)\n",
    "rs_results_logreg = rs_best_estimator(clf, param_grid1, X_train[:,750:1125], y_train)\"\"\""
   ]
  },
  {
   "cell_type": "code",
   "execution_count": 37,
   "metadata": {},
   "outputs": [
    {
     "data": {
      "text/plain": [
       "\"clf = KNeighborsClassifier(metric='dtw_sakoechiba')\\nn_neighbors = [1,2,3]\\nweights  = ['uniform', 'distance',]\\nparam_grid1 = dict(n_neighbors=n_neighbors,weights=weights)\\nrs_results_logreg = rs_best_estimator(clf, param_grid1, X_train[:,1125:1500], y_train)\""
      ]
     },
     "execution_count": 37,
     "metadata": {},
     "output_type": "execute_result"
    }
   ],
   "source": [
    "\"\"\"clf = KNeighborsClassifier(metric='dtw_sakoechiba')\n",
    "n_neighbors = [1,2,3]\n",
    "weights  = ['uniform', 'distance',]\n",
    "param_grid1 = dict(n_neighbors=n_neighbors,weights=weights)\n",
    "rs_results_logreg = rs_best_estimator(clf, param_grid1, X_train[:,1125:1500], y_train)\"\"\""
   ]
  },
  {
   "cell_type": "code",
   "execution_count": 38,
   "metadata": {},
   "outputs": [
    {
     "name": "stdout",
     "output_type": "stream",
     "text": [
      "Accuracy 0.7980769230769231\n",
      "F1-score [0.80733945 0.78787879]\n",
      "              precision    recall  f1-score   support\n",
      "\n",
      "           0       0.90      0.73      0.81       360\n",
      "           1       0.71      0.89      0.79       264\n",
      "\n",
      "    accuracy                           0.80       624\n",
      "   macro avg       0.80      0.81      0.80       624\n",
      "weighted avg       0.82      0.80      0.80       624\n",
      "\n"
     ]
    }
   ],
   "source": [
    "clf = KNeighborsTimeSeriesClassifier(metric=\"euclidean\", n_neighbors=3)\n",
    "clf.fit(X_train, y_train)\n",
    "\n",
    "y_pred = clf.predict(X_test)\n",
    "\n",
    "print('Accuracy %s' % accuracy_score(y_test, y_pred))\n",
    "print('F1-score %s' % f1_score(y_test, y_pred, average=None))\n",
    "print(classification_report(y_test, y_pred))"
   ]
  },
  {
   "cell_type": "code",
   "execution_count": 39,
   "metadata": {},
   "outputs": [
    {
     "name": "stdout",
     "output_type": "stream",
     "text": [
      "classification with dtw\n",
      "Accuracy 0.9631410256410257\n",
      "F1-score [0.96737589 0.95764273]\n",
      "              precision    recall  f1-score   support\n",
      "\n",
      "           0       0.99      0.95      0.97       360\n",
      "           1       0.93      0.98      0.96       264\n",
      "\n",
      "    accuracy                           0.96       624\n",
      "   macro avg       0.96      0.97      0.96       624\n",
      "weighted avg       0.96      0.96      0.96       624\n",
      "\n"
     ]
    }
   ],
   "source": [
    "metric=['dtw']\n",
    "for metric in metric:\n",
    "    clf = KNeighborsTimeSeriesClassifier(metric=metric, n_neighbors=5, n_jobs=-1)\n",
    "    clf.fit(X_train,y_train)\n",
    "\n",
    "    y_pred = clf.predict(X_test)\n",
    "\n",
    "    print(\"classification with \" + metric)    \n",
    "    print('Accuracy %s' % accuracy_score(y_test, y_pred))\n",
    "    print('F1-score %s' % f1_score(y_test, y_pred, average=None))\n",
    "    print(classification_report(y_test, y_pred))"
   ]
  },
  {
   "cell_type": "code",
   "execution_count": null,
   "metadata": {},
   "outputs": [
    {
     "data": {
      "text/plain": [
       "'!pip install joblib'"
      ]
     },
     "execution_count": 171,
     "metadata": {},
     "output_type": "execute_result"
    }
   ],
   "source": [
    "\"\"\"!pip install joblib\"\"\""
   ]
  },
  {
   "cell_type": "code",
   "execution_count": null,
   "metadata": {},
   "outputs": [
    {
     "ename": "SyntaxError",
     "evalue": "unterminated string literal (detected at line 1) (540490653.py, line 1)",
     "output_type": "error",
     "traceback": [
      "\u001b[1;36m  Cell \u001b[1;32mIn[172], line 1\u001b[1;36m\u001b[0m\n\u001b[1;33m    \"\u001b[0m\n\u001b[1;37m    ^\u001b[0m\n\u001b[1;31mSyntaxError\u001b[0m\u001b[1;31m:\u001b[0m unterminated string literal (detected at line 1)\n"
     ]
    }
   ],
   "source": [
    "\"\"\"import joblib\"\"\""
   ]
  },
  {
   "cell_type": "code",
   "execution_count": null,
   "metadata": {},
   "outputs": [],
   "source": [
    "\"\"\"joblib.dump()\"\"\""
   ]
  },
  {
   "attachments": {},
   "cell_type": "markdown",
   "metadata": {},
   "source": [
    "##CNN"
   ]
  },
  {
   "cell_type": "code",
   "execution_count": 95,
   "metadata": {},
   "outputs": [],
   "source": [
    "from keras.models import Sequential\n",
    "from keras.layers import Dense, Dropout, GlobalAveragePooling1D\n",
    "from keras.layers import Conv1D, Activation, Conv1D, BatchNormalization"
   ]
  },
  {
   "cell_type": "code",
   "execution_count": 96,
   "metadata": {},
   "outputs": [],
   "source": [
    "def build_simple_cnn(n_timesteps, n_outputs):\n",
    "    model = Sequential()\n",
    "    \n",
    "    model.add(Conv1D(filters=16, kernel_size=8, activation='relu', input_shape=(n_timesteps, 1)))\n",
    "    model.add(BatchNormalization())\n",
    "    model.add(Activation('relu'))\n",
    "    \n",
    "    model.add(Dropout(0.3))\n",
    "    \n",
    "    model.add(Conv1D(filters=32, kernel_size=5, activation='relu'))\n",
    "    model.add(BatchNormalization())\n",
    "    model.add(Activation('relu'))\n",
    "    \n",
    "    model.add(Dropout(0.3))\n",
    "    \n",
    "    model.add(Conv1D(filters=64, kernel_size=3, activation='relu'))\n",
    "    model.add(BatchNormalization())\n",
    "    model.add(Activation('relu'))\n",
    "    \n",
    "    model.add(Dropout(0.3))\n",
    "    \n",
    "    model.add(GlobalAveragePooling1D())\n",
    "    \n",
    "    model.add(Dense(n_outputs, activation='sigmoid'))\n",
    "    model.compile(loss='sparse_categorical_crossentropy', optimizer='adam', metrics=['accuracy'])\n",
    "    \n",
    "    return model\n"
   ]
  },
  {
   "cell_type": "code",
   "execution_count": 98,
   "metadata": {},
   "outputs": [
    {
     "name": "stdout",
     "output_type": "stream",
     "text": [
      "TIMESTEPS:  2998\n",
      "N. LABELS:  2\n"
     ]
    }
   ],
   "source": [
    "X_train_cnn = X_train\n",
    "X_test_cnn = X_test\n",
    "\n",
    "X_train_cnn, X_val_cnn, y_train_cnn, y_val_cnn = train_test_split(X_train_cnn, y_train, test_size=0.2, stratify=y_train)\n",
    "\n",
    "n_timesteps, n_outputs, n_features = X_train_cnn.shape[1], len(np.unique(y_train_cnn)), 1 \n",
    "print(\"TIMESTEPS: \", n_timesteps)\n",
    "print(\"N. LABELS: \", n_outputs)"
   ]
  },
  {
   "cell_type": "code",
   "execution_count": 99,
   "metadata": {},
   "outputs": [],
   "source": [
    "cnn = build_simple_cnn(n_timesteps, n_outputs)"
   ]
  },
  {
   "cell_type": "code",
   "execution_count": 100,
   "metadata": {},
   "outputs": [
    {
     "name": "stdout",
     "output_type": "stream",
     "text": [
      "Model: \"sequential\"\n",
      "_________________________________________________________________\n",
      " Layer (type)                Output Shape              Param #   \n",
      "=================================================================\n",
      " conv1d (Conv1D)             (None, 2991, 16)          144       \n",
      "                                                                 \n",
      " batch_normalization (BatchN  (None, 2991, 16)         64        \n",
      " ormalization)                                                   \n",
      "                                                                 \n",
      " activation (Activation)     (None, 2991, 16)          0         \n",
      "                                                                 \n",
      " dropout (Dropout)           (None, 2991, 16)          0         \n",
      "                                                                 \n",
      " conv1d_1 (Conv1D)           (None, 2987, 32)          2592      \n",
      "                                                                 \n",
      " batch_normalization_1 (Batc  (None, 2987, 32)         128       \n",
      " hNormalization)                                                 \n",
      "                                                                 \n",
      " activation_1 (Activation)   (None, 2987, 32)          0         \n",
      "                                                                 \n",
      " dropout_1 (Dropout)         (None, 2987, 32)          0         \n",
      "                                                                 \n",
      " conv1d_2 (Conv1D)           (None, 2985, 64)          6208      \n",
      "                                                                 \n",
      " batch_normalization_2 (Batc  (None, 2985, 64)         256       \n",
      " hNormalization)                                                 \n",
      "                                                                 \n",
      " activation_2 (Activation)   (None, 2985, 64)          0         \n",
      "                                                                 \n",
      " dropout_2 (Dropout)         (None, 2985, 64)          0         \n",
      "                                                                 \n",
      " global_average_pooling1d (G  (None, 64)               0         \n",
      " lobalAveragePooling1D)                                          \n",
      "                                                                 \n",
      " dense (Dense)               (None, 2)                 130       \n",
      "                                                                 \n",
      "=================================================================\n",
      "Total params: 9,522\n",
      "Trainable params: 9,298\n",
      "Non-trainable params: 224\n",
      "_________________________________________________________________\n"
     ]
    }
   ],
   "source": [
    "cnn.summary()"
   ]
  },
  {
   "cell_type": "code",
   "execution_count": 101,
   "metadata": {},
   "outputs": [],
   "source": [
    "from keras.callbacks import ReduceLROnPlateau, ModelCheckpoint"
   ]
  },
  {
   "cell_type": "code",
   "execution_count": 102,
   "metadata": {},
   "outputs": [],
   "source": [
    "rlr = ReduceLROnPlateau(monitor='loss', factor=0.5, patience=50, min_lr=0.0001)\n",
    "mc = ModelCheckpoint('best_model_cnn.h5', monitor='val_loss', save_best_only=True)\n",
    "\n",
    "callbacks = [rlr, mc]\n",
    "\n",
    "batch_size = 16\n",
    "mini_batch_size = int(min(X_train_cnn.shape[0]/10, batch_size))"
   ]
  },
  {
   "cell_type": "code",
   "execution_count": 103,
   "metadata": {},
   "outputs": [
    {
     "name": "stdout",
     "output_type": "stream",
     "text": [
      "Epoch 1/5\n",
      "92/92 [==============================] - 34s 324ms/step - loss: 0.4461 - accuracy: 0.7775 - val_loss: 0.6250 - val_accuracy: 0.8251 - lr: 0.0010\n",
      "Epoch 2/5\n",
      "92/92 [==============================] - 30s 323ms/step - loss: 0.3286 - accuracy: 0.8508 - val_loss: 0.5216 - val_accuracy: 0.8798 - lr: 0.0010\n",
      "Epoch 3/5\n",
      "92/92 [==============================] - 30s 329ms/step - loss: 0.2641 - accuracy: 0.8960 - val_loss: 0.3941 - val_accuracy: 0.8907 - lr: 0.0010\n",
      "Epoch 4/5\n",
      "92/92 [==============================] - 30s 323ms/step - loss: 0.2376 - accuracy: 0.9028 - val_loss: 0.3203 - val_accuracy: 0.8579 - lr: 0.0010\n",
      "Epoch 5/5\n",
      "92/92 [==============================] - 30s 324ms/step - loss: 0.2150 - accuracy: 0.9199 - val_loss: 0.2263 - val_accuracy: 0.9372 - lr: 0.0010\n"
     ]
    }
   ],
   "source": [
    "history_cnn = cnn.fit(X_train_cnn, y_train_cnn, epochs=5, batch_size=mini_batch_size, callbacks=callbacks,\n",
    "                      validation_data=(X_val_cnn, y_val_cnn)).history"
   ]
  },
  {
   "cell_type": "code",
   "execution_count": 104,
   "metadata": {},
   "outputs": [
    {
     "name": "stdout",
     "output_type": "stream",
     "text": [
      "20/20 [==============================] - 2s 74ms/step\n",
      "Accuracy 0.967948717948718\n",
      "F1-score [0.9726776  0.96124031]\n",
      "              precision    recall  f1-score   support\n",
      "\n",
      "           0       0.96      0.99      0.97       360\n",
      "           1       0.98      0.94      0.96       264\n",
      "\n",
      "    accuracy                           0.97       624\n",
      "   macro avg       0.97      0.96      0.97       624\n",
      "weighted avg       0.97      0.97      0.97       624\n",
      "\n"
     ]
    }
   ],
   "source": [
    "y_pred = np.argmax(cnn.predict(X_test_cnn), axis=1)\n",
    "\n",
    "print('Accuracy %s' % accuracy_score(y_test, y_pred))\n",
    "print('F1-score %s' % f1_score(y_test, y_pred, average=None))\n",
    "print(classification_report(y_test, y_pred))"
   ]
  },
  {
   "cell_type": "code",
   "execution_count": 105,
   "metadata": {},
   "outputs": [
    {
     "name": "stdout",
     "output_type": "stream",
     "text": [
      "20/20 [==============================] - 2s 89ms/step - loss: 0.1728 - accuracy: 0.9679\n"
     ]
    },
    {
     "data": {
      "text/plain": [
       "[0.1728043556213379, 0.9679487347602844]"
      ]
     },
     "execution_count": 105,
     "metadata": {},
     "output_type": "execute_result"
    }
   ],
   "source": [
    "cnn.evaluate(X_test_cnn, y_test)"
   ]
  },
  {
   "attachments": {},
   "cell_type": "markdown",
   "metadata": {},
   "source": [
    "###SHAPELETS"
   ]
  },
  {
   "cell_type": "code",
   "execution_count": 106,
   "metadata": {},
   "outputs": [],
   "source": [
    "from pyts.transformation import ShapeletTransform"
   ]
  },
  {
   "cell_type": "code",
   "execution_count": 107,
   "metadata": {},
   "outputs": [],
   "source": [
    "# Shapelet transformation\n",
    "st = ShapeletTransform(window_sizes=[4, 12],\n",
    "                       random_state=42, sort=True)\n",
    "X_new = st.fit_transform(X_train, y_train)\n",
    "X_test_new = st.transform(X_test)"
   ]
  },
  {
   "cell_type": "code",
   "execution_count": null,
   "metadata": {},
   "outputs": [],
   "source": [
    "\"\"\"from sklearn.tree import DecisionTreeClassifier\n",
    "clf = DecisionTreeClassifier(max_depth=8, random_state=42)\n",
    "clf.fit(X_new, y_train)\n",
    "\n",
    "y_pred = clf.predict(X_test_new)\n",
    "\n",
    "print('Accuracy %s' % accuracy_score(y_test, y_pred))\n",
    "print('F1-score %s' % f1_score(y_test, y_pred, average=None))\n",
    "print(classification_report(y_test, y_pred))\"\"\""
   ]
  }
 ],
 "metadata": {
  "kernelspec": {
   "display_name": "Python 3",
   "language": "python",
   "name": "python3"
  },
  "language_info": {
   "codemirror_mode": {
    "name": "ipython",
    "version": 3
   },
   "file_extension": ".py",
   "mimetype": "text/x-python",
   "name": "python",
   "nbconvert_exporter": "python",
   "pygments_lexer": "ipython3",
   "version": "3.11.2"
  },
  "orig_nbformat": 4
 },
 "nbformat": 4,
 "nbformat_minor": 2
}
